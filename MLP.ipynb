{
 "cells": [
  {
   "cell_type": "code",
   "execution_count": 1,
   "metadata": {},
   "outputs": [
    {
     "name": "stdout",
     "output_type": "stream",
     "text": [
      "Ignorer l'image C:/Users/moon/pets\\Cat\\10125.jpg avec dimensions incorrectes: (150, 150)\n",
      "Ignorer l'image C:/Users/moon/pets\\Cat\\10501.jpg avec dimensions incorrectes: (150, 150)\n",
      "Ignorer l'image C:/Users/moon/pets\\Cat\\10820.jpg avec dimensions incorrectes: (150, 150)\n",
      "Ignorer l'image C:/Users/moon/pets\\Cat\\11095.jpg avec dimensions incorrectes: (150, 150)\n",
      "Ignorer l'image C:/Users/moon/pets\\Cat\\11210.jpg avec dimensions incorrectes: (150, 150)\n",
      "Ignorer l'image C:/Users/moon/pets\\Cat\\11565.jpg avec dimensions incorrectes: (150, 150)\n",
      "Ignorer l'image C:/Users/moon/pets\\Cat\\11874.jpg avec dimensions incorrectes: (150, 150)\n",
      "Ignorer l'image C:/Users/moon/pets\\Cat\\11935.jpg avec dimensions incorrectes: (150, 150)\n",
      "Ignorer l'image C:/Users/moon/pets\\Cat\\12080.jpg avec dimensions incorrectes: (150, 150)\n",
      "Ignorer l'image C:/Users/moon/pets\\Cat\\140.jpg avec dimensions incorrectes: (150, 150)\n",
      "Ignorer l'image C:/Users/moon/pets\\Cat\\2663.jpg avec dimensions incorrectes: (150, 150)\n",
      "Ignorer l'image C:/Users/moon/pets\\Cat\\2939.jpg avec dimensions incorrectes: (150, 150)\n",
      "Ignorer l'image C:/Users/moon/pets\\Cat\\3300.jpg avec dimensions incorrectes: (150, 150)\n",
      "Ignorer l'image C:/Users/moon/pets\\Cat\\3491.jpg avec dimensions incorrectes: (150, 150)\n",
      "Ignorer l'image C:/Users/moon/pets\\Cat\\4833.jpg avec dimensions incorrectes: (150, 150)\n",
      "Ignorer l'image C:/Users/moon/pets\\Cat\\5370.jpg avec dimensions incorrectes: (150, 150)\n",
      "Ignorer l'image C:/Users/moon/pets\\Cat\\5553.jpg avec dimensions incorrectes: (150, 150)\n",
      "Ignorer l'image C:/Users/moon/pets\\Cat\\5686.jpg avec dimensions incorrectes: (150, 150)\n",
      "Ignorer l'image C:/Users/moon/pets\\Cat\\6435.jpg avec dimensions incorrectes: (150, 150)\n",
      "Ignorer l'image C:/Users/moon/pets\\Cat\\660.jpg avec dimensions incorrectes: (150, 150)\n",
      "Erreur lors du chargement de l'image C:/Users/moon/pets\\Cat\\666.jpg: cannot identify image file 'C:\\\\Users\\\\moon\\\\pets\\\\Cat\\\\666.jpg'\n",
      "Ignorer l'image C:/Users/moon/pets\\Cat\\7276.jpg avec dimensions incorrectes: (150, 150)\n",
      "Ignorer l'image C:/Users/moon/pets\\Cat\\7968.jpg avec dimensions incorrectes: (150, 150)\n",
      "Ignorer l'image C:/Users/moon/pets\\Cat\\7978.jpg avec dimensions incorrectes: (150, 150)\n",
      "Ignorer l'image C:/Users/moon/pets\\Cat\\8470.jpg avec dimensions incorrectes: (150, 150)\n",
      "Ignorer l'image C:/Users/moon/pets\\Cat\\850.jpg avec dimensions incorrectes: (150, 150)\n",
      "Ignorer l'image C:/Users/moon/pets\\Cat\\9171.jpg avec dimensions incorrectes: (150, 150)\n",
      "Ignorer l'image C:/Users/moon/pets\\Cat\\936.jpg avec dimensions incorrectes: (150, 150)\n",
      "Ignorer l'image C:/Users/moon/pets\\Cat\\9565.jpg avec dimensions incorrectes: (150, 150)\n",
      "Ignorer l'image C:/Users/moon/pets\\Cat\\9778.jpg avec dimensions incorrectes: (150, 150)\n",
      "Erreur lors du chargement de l'image C:/Users/moon/pets\\Cat\\Thumbs.db: cannot identify image file 'C:\\\\Users\\\\moon\\\\pets\\\\Cat\\\\Thumbs.db'\n",
      "Ignorer l'image C:/Users/moon/pets\\Dog\\10158.jpg avec dimensions incorrectes: (150, 150)\n",
      "Ignorer l'image C:/Users/moon/pets\\Dog\\10401.jpg avec dimensions incorrectes: (150, 150)\n",
      "Ignorer l'image C:/Users/moon/pets\\Dog\\10747.jpg avec dimensions incorrectes: (150, 150)\n",
      "Ignorer l'image C:/Users/moon/pets\\Dog\\10797.jpg avec dimensions incorrectes: (150, 150)\n",
      "Ignorer l'image C:/Users/moon/pets\\Dog\\11285.jpg avec dimensions incorrectes: (150, 150, 4)\n",
      "Ignorer l'image C:/Users/moon/pets\\Dog\\11410.jpg avec dimensions incorrectes: (150, 150)\n",
      "Ignorer l'image C:/Users/moon/pets\\Dog\\11675.jpg avec dimensions incorrectes: (150, 150)\n",
      "Erreur lors du chargement de l'image C:/Users/moon/pets\\Dog\\11702.jpg: cannot identify image file 'C:\\\\Users\\\\moon\\\\pets\\\\Dog\\\\11702.jpg'\n",
      "Ignorer l'image C:/Users/moon/pets\\Dog\\11849.jpg avec dimensions incorrectes: (150, 150)\n",
      "Ignorer l'image C:/Users/moon/pets\\Dog\\11853.jpg avec dimensions incorrectes: (150, 150)\n",
      "Ignorer l'image C:/Users/moon/pets\\Dog\\1259.jpg avec dimensions incorrectes: (150, 150)\n",
      "Ignorer l'image C:/Users/moon/pets\\Dog\\1308.jpg avec dimensions incorrectes: (150, 150)\n",
      "Ignorer l'image C:/Users/moon/pets\\Dog\\1773.jpg avec dimensions incorrectes: (150, 150)\n",
      "Ignorer l'image C:/Users/moon/pets\\Dog\\1789.jpg avec dimensions incorrectes: (150, 150, 4)\n",
      "Ignorer l'image C:/Users/moon/pets\\Dog\\1866.jpg avec dimensions incorrectes: (150, 150)\n",
      "Ignorer l'image C:/Users/moon/pets\\Dog\\2384.jpg avec dimensions incorrectes: (150, 150)\n",
      "Ignorer l'image C:/Users/moon/pets\\Dog\\2688.jpg avec dimensions incorrectes: (150, 150)\n",
      "Ignorer l'image C:/Users/moon/pets\\Dog\\2877.jpg avec dimensions incorrectes: (150, 150)\n",
      "Ignorer l'image C:/Users/moon/pets\\Dog\\3136.jpg avec dimensions incorrectes: (150, 150)\n",
      "Ignorer l'image C:/Users/moon/pets\\Dog\\3288.jpg avec dimensions incorrectes: (150, 150)\n",
      "Ignorer l'image C:/Users/moon/pets\\Dog\\3588.jpg avec dimensions incorrectes: (150, 150)\n",
      "Ignorer l'image C:/Users/moon/pets\\Dog\\3823.jpg avec dimensions incorrectes: (150, 150)\n",
      "Ignorer l'image C:/Users/moon/pets\\Dog\\4367.jpg avec dimensions incorrectes: (150, 150)\n",
      "Ignorer l'image C:/Users/moon/pets\\Dog\\5604.jpg avec dimensions incorrectes: (150, 150)\n",
      "Ignorer l'image C:/Users/moon/pets\\Dog\\5736.jpg avec dimensions incorrectes: (150, 150)\n",
      "Ignorer l'image C:/Users/moon/pets\\Dog\\6059.jpg avec dimensions incorrectes: (150, 150)\n",
      "Ignorer l'image C:/Users/moon/pets\\Dog\\6238.jpg avec dimensions incorrectes: (150, 150)\n",
      "Ignorer l'image C:/Users/moon/pets\\Dog\\6245.jpg avec dimensions incorrectes: (150, 150, 4)\n",
      "Ignorer l'image C:/Users/moon/pets\\Dog\\6318.jpg avec dimensions incorrectes: (150, 150)\n",
      "Ignorer l'image C:/Users/moon/pets\\Dog\\6718.jpg avec dimensions incorrectes: (150, 150)\n",
      "Ignorer l'image C:/Users/moon/pets\\Dog\\7112.jpg avec dimensions incorrectes: (150, 150)\n",
      "Ignorer l'image C:/Users/moon/pets\\Dog\\7133.jpg avec dimensions incorrectes: (150, 150)\n",
      "Ignorer l'image C:/Users/moon/pets\\Dog\\7369.jpg avec dimensions incorrectes: (150, 150)\n",
      "Ignorer l'image C:/Users/moon/pets\\Dog\\7459.jpg avec dimensions incorrectes: (150, 150)\n",
      "Ignorer l'image C:/Users/moon/pets\\Dog\\7514.jpg avec dimensions incorrectes: (150, 150, 4)\n",
      "Ignorer l'image C:/Users/moon/pets\\Dog\\7969.jpg avec dimensions incorrectes: (150, 150)\n",
      "Ignorer l'image C:/Users/moon/pets\\Dog\\8730.jpg avec dimensions incorrectes: (150, 150)\n"
     ]
    },
    {
     "name": "stderr",
     "output_type": "stream",
     "text": [
      "c:\\Users\\moon\\anaconda3\\envs\\opencv2\\Lib\\site-packages\\PIL\\TiffImagePlugin.py:890: UserWarning: Truncated File Read\n",
      "  warnings.warn(str(msg))\n"
     ]
    },
    {
     "name": "stdout",
     "output_type": "stream",
     "text": [
      "Ignorer l'image C:/Users/moon/pets\\Dog\\9078.jpg avec dimensions incorrectes: (150, 150, 4)\n",
      "Ignorer l'image C:/Users/moon/pets\\Dog\\9188.jpg avec dimensions incorrectes: (150, 150)\n",
      "Erreur lors du chargement de l'image C:/Users/moon/pets\\Dog\\Thumbs.db: cannot identify image file 'C:\\\\Users\\\\moon\\\\pets\\\\Dog\\\\Thumbs.db'\n"
     ]
    }
   ],
   "source": [
    "import os\n",
    "import numpy as np\n",
    "from PIL import Image\n",
    "\n",
    "# Définir le répertoire contenant les images\n",
    "image_directory = 'C:/Users/moon/pets'\n",
    "\n",
    "# Taille de l'image cible\n",
    "size = (150, 150)\n",
    "\n",
    "# Initialiser des listes pour stocker les images et les labels\n",
    "images = []\n",
    "labels = []\n",
    "\n",
    "# Fonction pour charger et prétraiter une image\n",
    "def load_image(file_path):\n",
    "    try:\n",
    "        img = Image.open(file_path)\n",
    "        img = img.resize(size)\n",
    "        img = np.array(img) / 255.0  # Normaliser les valeurs de pixel\n",
    "        return img\n",
    "    except Exception as e:\n",
    "        print(f\"Erreur lors du chargement de l'image {file_path}: {e}\")\n",
    "        return None\n",
    "\n",
    "# Parcourir chaque sous-dossier (Cat et Dog)\n",
    "for label_name in ['Cat', 'Dog']:\n",
    "    label = 0 if label_name == 'Cat' else 1  # 0 pour Cat, 1 pour Dog\n",
    "    label_directory = os.path.join(image_directory, label_name)\n",
    "    \n",
    "    # Parcourir chaque image dans le sous-dossier\n",
    "    for file_name in os.listdir(label_directory):\n",
    "        file_path = os.path.join(label_directory, file_name)\n",
    "        \n",
    "        # Charger et prétraiter l'image\n",
    "        img = load_image(file_path)\n",
    "        if img is not None:\n",
    "            # Vérifier si l'image a les dimensions correctes\n",
    "            if img.shape == (size[0], size[1], 3):\n",
    "                images.append(img)\n",
    "                labels.append(label)\n",
    "            else:\n",
    "                print(f\"Ignorer l'image {file_path} avec dimensions incorrectes: {img.shape}\")"
   ]
  },
  {
   "cell_type": "code",
   "execution_count": 2,
   "metadata": {},
   "outputs": [
    {
     "name": "stdout",
     "output_type": "stream",
     "text": [
      "Shape des images: (24931, 150, 150, 3)\n",
      "Shape des labels: (24931,)\n"
     ]
    }
   ],
   "source": [
    "# Convertir les listes en tableaux numpy\n",
    "images = np.array(images)\n",
    "labels = np.array(labels)\n",
    "\n",
    "# Enregistrer les données sous forme de fichiers \".npy\"\n",
    "np.save('images.npy', images)\n",
    "np.save('labels.npy', labels)\n",
    "\n",
    "# Afficher la forme des données\n",
    "print(\"Shape des images:\", images.shape)\n",
    "print(\"Shape des labels:\", labels.shape)"
   ]
  },
  {
   "cell_type": "code",
   "execution_count": 3,
   "metadata": {},
   "outputs": [],
   "source": [
    "# Normalize image to between 0 and 255\n",
    "images_normal = images / (images.max() / 255.0)"
   ]
  },
  {
   "cell_type": "code",
   "execution_count": 8,
   "metadata": {},
   "outputs": [
    {
     "name": "stdout",
     "output_type": "stream",
     "text": [
      "Accuracy : 0.5279727290956487\n",
      "Classification Report :\n",
      "              precision    recall  f1-score   support\n",
      "\n",
      "           0       0.76      0.09      0.16      2505\n",
      "           1       0.51      0.97      0.67      2482\n",
      "\n",
      "    accuracy                           0.53      4987\n",
      "   macro avg       0.64      0.53      0.41      4987\n",
      "weighted avg       0.64      0.53      0.41      4987\n",
      "\n",
      "Confusion Matrix :\n",
      "[[ 219 2286]\n",
      " [  68 2414]]\n"
     ]
    }
   ],
   "source": [
    "from sklearn.preprocessing import LabelEncoder\n",
    "from sklearn.neural_network import MLPClassifier\n",
    "from sklearn.model_selection import train_test_split\n",
    "from sklearn.metrics import accuracy_score\n",
    "from sklearn.metrics import classification_report\n",
    "from sklearn.metrics import confusion_matrix\n",
    "\n",
    "\n",
    "\n",
    "\n",
    "\n",
    "# Convertir les étiquettes en entiers\n",
    "labels_encoded = LabelEncoder().fit_transform(labels)\n",
    "\n",
    "X_train_normal, X_test_normal, y_train_encoded, y_test_encoded = train_test_split(images_normal, labels_encoded, test_size=0.2, random_state=42)\n",
    "\n",
    "# Convertir les images en float32\n",
    "X_train_normal = X_train_normal.astype(np.float32)\n",
    "X_test_normal = X_test_normal.astype(np.float32)\n",
    "\n",
    "X_train_flat = X_train_normal.reshape(-1, X_train_normal.shape[1] * X_train_normal.shape[2] * X_train_normal.shape[3])\n",
    "X_test_flat = X_test_normal.reshape(-1, X_test_normal.shape[1] * X_test_normal.shape[2] * X_test_normal.shape[3])\n",
    "\n",
    "# Train the MLP model\n",
    "mlp = MLPClassifier(hidden_layer_sizes=(128, 64), activation='relu', solver='adam', max_iter=1000)\n",
    "mlp.fit(X_train_flat, y_train_encoded)\n",
    "\n",
    "# Evaluate the model\n",
    "y_pred = mlp.predict(X_test_flat)\n",
    "accuracy = accuracy_score(y_test_encoded, y_pred)\n",
    "print(\"Accuracy :\", accuracy)\n",
    "print(\"Classification Report :\")\n",
    "print(classification_report(y_test_encoded, y_pred))\n",
    "print(\"Confusion Matrix :\")\n",
    "print(confusion_matrix(y_test_encoded, y_pred))"
   ]
  }
 ],
 "metadata": {
  "kernelspec": {
   "display_name": "opencv2",
   "language": "python",
   "name": "python3"
  },
  "language_info": {
   "codemirror_mode": {
    "name": "ipython",
    "version": 3
   },
   "file_extension": ".py",
   "mimetype": "text/x-python",
   "name": "python",
   "nbconvert_exporter": "python",
   "pygments_lexer": "ipython3",
   "version": "3.11.0"
  }
 },
 "nbformat": 4,
 "nbformat_minor": 2
}
